{
 "cells": [
  {
   "cell_type": "code",
   "execution_count": null,
   "metadata": {},
   "outputs": [],
   "source": [
    "import pandas as pd\n",
    "import geopandas as gpd\n",
    "import numpy as np"
   ]
  },
  {
   "cell_type": "code",
   "execution_count": null,
   "metadata": {},
   "outputs": [],
   "source": [
    "delitos_cali = pd.read_excel(\"C:/Users/jf95n/Downloads/DELITOS_CALI.xlsx\")"
   ]
  },
  {
   "cell_type": "code",
   "execution_count": null,
   "metadata": {},
   "outputs": [],
   "source": [
    "barrios_cali = gpd.read_file('C:/Users/jf95n/OneDrive/Desktop/Python/BASES/POT_2014/movilidad/BARRIOS.shp').to_crs(4326)"
   ]
  },
  {
   "cell_type": "code",
   "execution_count": null,
   "metadata": {},
   "outputs": [],
   "source": [
    "replacements = {'á':'a', 'é':'e',  'ó':'o', 'í':'i', 'ú':'u'}"
   ]
  },
  {
   "cell_type": "code",
   "execution_count": null,
   "metadata": {},
   "outputs": [],
   "source": [
    "barrios_cali['BARRIO'] = barrios_cali['BARRIO'].str.replace(' ','', n = -1).str.lower()\n",
    "\n",
    "for i, j in replacements.items():\n",
    "    barrios_cali['BARRIO'] = barrios_cali['BARRIO'].str.replace(i,j)"
   ]
  },
  {
   "cell_type": "code",
   "execution_count": null,
   "metadata": {},
   "outputs": [],
   "source": [
    "for i, j in replacements.items():\n",
    "    delitos_cali['BARRIOS'] = delitos_cali['BARRIOS'].str.replace(i,j)"
   ]
  },
  {
   "cell_type": "code",
   "execution_count": null,
   "metadata": {},
   "outputs": [],
   "source": [
    "delitos_cali['Barrio_clean'] = delitos_cali['BARRIOS'].str.split(r'( E\\d+)', regex= True, expand = True)[0]"
   ]
  },
  {
   "cell_type": "code",
   "execution_count": null,
   "metadata": {},
   "outputs": [],
   "source": [
    "delitos_cali['Comuna_'] = delitos_cali['BARRIOS'].str.split(r'( E\\d+)', regex= True, expand = True)[1]"
   ]
  },
  {
   "cell_type": "code",
   "execution_count": null,
   "metadata": {},
   "outputs": [],
   "source": [
    "delitos_cali['Comuna_'] = delitos_cali['Comuna_'].str.replace('E','')"
   ]
  },
  {
   "cell_type": "code",
   "execution_count": null,
   "metadata": {},
   "outputs": [],
   "source": [
    "delitos_cali['Barrio_clean'] = delitos_cali['Barrio_clean'].str.replace(r'( E\\d+)','', regex = True).str.replace(' ','').str.lower()"
   ]
  },
  {
   "cell_type": "code",
   "execution_count": null,
   "metadata": {},
   "outputs": [],
   "source": [
    "delitos_left = delitos_cali.merge(barrios_cali.loc[:,['geometry','BARRIO']], left_on = 'Barrio_clean', right_on = 'BARRIO', how = 'left').copy()"
   ]
  },
  {
   "cell_type": "code",
   "execution_count": null,
   "metadata": {},
   "outputs": [],
   "source": [
    "## BARRIOS QUE NO PEGARON\n",
    "delitos_left.loc[delitos_left['BARRIO'].isna(), 'Barrio_clean'].unique()"
   ]
  },
  {
   "cell_type": "code",
   "execution_count": null,
   "metadata": {},
   "outputs": [],
   "source": [
    "delitos_cali['Comuna_'].value_counts()"
   ]
  },
  {
   "cell_type": "code",
   "execution_count": null,
   "metadata": {},
   "outputs": [],
   "source": []
  }
 ],
 "metadata": {
  "kernelspec": {
   "display_name": "Python 3",
   "language": "python",
   "name": "python3"
  },
  "language_info": {
   "codemirror_mode": {
    "name": "ipython",
    "version": 3
   },
   "file_extension": ".py",
   "mimetype": "text/x-python",
   "name": "python",
   "nbconvert_exporter": "python",
   "pygments_lexer": "ipython3",
   "version": "3.11.5"
  }
 },
 "nbformat": 4,
 "nbformat_minor": 2
}
