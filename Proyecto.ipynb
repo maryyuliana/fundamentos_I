{
 "cells": [
  {
   "cell_type": "markdown",
   "metadata": {},
   "source": [
    "//TODO -> MATRIZ DE CONFUSIÓN"
   ]
  },
  {
   "cell_type": "code",
   "execution_count": 8,
   "metadata": {},
   "outputs": [],
   "source": [
    "import pandas as pd\n",
    "import matplotlib.pyplot as plt\n",
    "import matplotlib\n",
    "plt.style.use('ggplot')\n",
    "\n",
    "import seaborn as sns\n",
    "import numpy as np\n",
    "\n",
    "from sklearn import set_config ## SE AGREGA ESTO PARA QUE EL DIAGRAMA DEL PIPELINE APAREZCA INTERACTIVO\n",
    "set_config(display = 'diagram') ## SE AGREGA ESTO PARA QUE EL DIAGRAMA DEL PIPELINE APAREZCA INTERACTIVO\n",
    "\n",
    "import joblib\n",
    "from sklearn.dummy import DummyClassifier\n",
    "from sklearn.preprocessing import StandardScaler, LabelEncoder\n",
    "from sklearn.linear_model import LogisticRegression, LinearRegression\n",
    "from sklearn.naive_bayes import GaussianNB\n",
    "from sklearn.neighbors import KNeighborsClassifier\n",
    "from sklearn.cluster import KMeans\n",
    "from sklearn.tree import DecisionTreeClassifier\n",
    "from sklearn.ensemble import RandomForestClassifier\n",
    "from sklearn.experimental import enable_iterative_imputer\n",
    "from sklearn.impute import SimpleImputer, KNNImputer, IterativeImputer\n",
    "from sklearn.pipeline import make_pipeline, Pipeline\n",
    "from sklearn.model_selection import cross_val_score, train_test_split, GridSearchCV\n",
    "from sklearn.preprocessing import OneHotEncoder, MinMaxScaler\n",
    "from sklearn.compose import ColumnTransformer\n",
    "from scipy.stats import chi2_contingency\n",
    "from sklearn.decomposition import PCA\n",
    "from sklearn.metrics import roc_auc_score, cohen_kappa_score, accuracy_score, confusion_matrix, precision_score, recall_score, roc_auc_score\n",
    "from  sklearn.base import clone ## Clonar un pipeline\n",
    "import xgboost as xgb\n",
    "\n",
    "\n",
    "import warnings\n",
    "warnings.filterwarnings(\"ignore\")"
   ]
  },
  {
   "cell_type": "code",
   "execution_count": 9,
   "metadata": {},
   "outputs": [
    {
     "name": "stdout",
     "output_type": "stream",
     "text": [
      "Python 3.11.5\n"
     ]
    }
   ],
   "source": [
    "! python --version"
   ]
  },
  {
   "cell_type": "code",
   "execution_count": 10,
   "metadata": {},
   "outputs": [],
   "source": [
    "train = pd.read_csv('Train.csv')"
   ]
  },
  {
   "cell_type": "code",
   "execution_count": 11,
   "metadata": {},
   "outputs": [
    {
     "data": {
      "text/html": [
       "<div>\n",
       "<style scoped>\n",
       "    .dataframe tbody tr th:only-of-type {\n",
       "        vertical-align: middle;\n",
       "    }\n",
       "\n",
       "    .dataframe tbody tr th {\n",
       "        vertical-align: top;\n",
       "    }\n",
       "\n",
       "    .dataframe thead th {\n",
       "        text-align: right;\n",
       "    }\n",
       "</style>\n",
       "<table border=\"1\" class=\"dataframe\">\n",
       "  <thead>\n",
       "    <tr style=\"text-align: right;\">\n",
       "      <th></th>\n",
       "      <th>ID</th>\n",
       "      <th>Gender</th>\n",
       "      <th>Ever_Married</th>\n",
       "      <th>Age</th>\n",
       "      <th>Graduated</th>\n",
       "      <th>Profession</th>\n",
       "      <th>Work_Experience</th>\n",
       "      <th>Spending_Score</th>\n",
       "      <th>Family_Size</th>\n",
       "      <th>Var_1</th>\n",
       "      <th>Segmentation</th>\n",
       "    </tr>\n",
       "  </thead>\n",
       "  <tbody>\n",
       "    <tr>\n",
       "      <th>0</th>\n",
       "      <td>462809</td>\n",
       "      <td>Male</td>\n",
       "      <td>No</td>\n",
       "      <td>22</td>\n",
       "      <td>No</td>\n",
       "      <td>Healthcare</td>\n",
       "      <td>1.0</td>\n",
       "      <td>Low</td>\n",
       "      <td>4.0</td>\n",
       "      <td>Cat_4</td>\n",
       "      <td>D</td>\n",
       "    </tr>\n",
       "    <tr>\n",
       "      <th>1</th>\n",
       "      <td>462643</td>\n",
       "      <td>Female</td>\n",
       "      <td>Yes</td>\n",
       "      <td>38</td>\n",
       "      <td>Yes</td>\n",
       "      <td>Engineer</td>\n",
       "      <td>NaN</td>\n",
       "      <td>Average</td>\n",
       "      <td>3.0</td>\n",
       "      <td>Cat_4</td>\n",
       "      <td>A</td>\n",
       "    </tr>\n",
       "  </tbody>\n",
       "</table>\n",
       "</div>"
      ],
      "text/plain": [
       "       ID  Gender Ever_Married  Age Graduated  Profession  Work_Experience  \\\n",
       "0  462809    Male           No   22        No  Healthcare              1.0   \n",
       "1  462643  Female          Yes   38       Yes    Engineer              NaN   \n",
       "\n",
       "  Spending_Score  Family_Size  Var_1 Segmentation  \n",
       "0            Low          4.0  Cat_4            D  \n",
       "1        Average          3.0  Cat_4            A  "
      ]
     },
     "execution_count": 11,
     "metadata": {},
     "output_type": "execute_result"
    }
   ],
   "source": [
    "train.head(2)"
   ]
  },
  {
   "cell_type": "code",
   "execution_count": 12,
   "metadata": {},
   "outputs": [
    {
     "name": "stdout",
     "output_type": "stream",
     "text": [
      "<class 'pandas.core.frame.DataFrame'>\n",
      "RangeIndex: 8068 entries, 0 to 8067\n",
      "Data columns (total 11 columns):\n",
      " #   Column           Non-Null Count  Dtype  \n",
      "---  ------           --------------  -----  \n",
      " 0   ID               8068 non-null   int64  \n",
      " 1   Gender           8068 non-null   object \n",
      " 2   Ever_Married     7928 non-null   object \n",
      " 3   Age              8068 non-null   int64  \n",
      " 4   Graduated        7990 non-null   object \n",
      " 5   Profession       7944 non-null   object \n",
      " 6   Work_Experience  7239 non-null   float64\n",
      " 7   Spending_Score   8068 non-null   object \n",
      " 8   Family_Size      7733 non-null   float64\n",
      " 9   Var_1            7992 non-null   object \n",
      " 10  Segmentation     8068 non-null   object \n",
      "dtypes: float64(2), int64(2), object(7)\n",
      "memory usage: 693.5+ KB\n"
     ]
    }
   ],
   "source": [
    "train.info()"
   ]
  },
  {
   "cell_type": "code",
   "execution_count": 13,
   "metadata": {},
   "outputs": [],
   "source": [
    "## Realizamos una copia del dataset original en caso de volver a ocupar esta versión sin cambios.\n",
    "train_original = train.copy()"
   ]
  },
  {
   "cell_type": "code",
   "execution_count": 14,
   "metadata": {},
   "outputs": [
    {
     "data": {
      "text/html": [
       "<div>\n",
       "<style scoped>\n",
       "    .dataframe tbody tr th:only-of-type {\n",
       "        vertical-align: middle;\n",
       "    }\n",
       "\n",
       "    .dataframe tbody tr th {\n",
       "        vertical-align: top;\n",
       "    }\n",
       "\n",
       "    .dataframe thead th {\n",
       "        text-align: right;\n",
       "    }\n",
       "</style>\n",
       "<table border=\"1\" class=\"dataframe\">\n",
       "  <thead>\n",
       "    <tr style=\"text-align: right;\">\n",
       "      <th></th>\n",
       "      <th>ID</th>\n",
       "      <th>Gender</th>\n",
       "      <th>Ever_Married</th>\n",
       "      <th>Age</th>\n",
       "      <th>Graduated</th>\n",
       "      <th>Profession</th>\n",
       "      <th>Work_Experience</th>\n",
       "      <th>Spending_Score</th>\n",
       "      <th>Family_Size</th>\n",
       "      <th>Var_1</th>\n",
       "      <th>Segmentation</th>\n",
       "    </tr>\n",
       "  </thead>\n",
       "  <tbody>\n",
       "  </tbody>\n",
       "</table>\n",
       "</div>"
      ],
      "text/plain": [
       "Empty DataFrame\n",
       "Columns: [ID, Gender, Ever_Married, Age, Graduated, Profession, Work_Experience, Spending_Score, Family_Size, Var_1, Segmentation]\n",
       "Index: []"
      ]
     },
     "execution_count": 14,
     "metadata": {},
     "output_type": "execute_result"
    }
   ],
   "source": [
    "## Se verifica si hay datos duplicados\n",
    "train.loc[train.duplicated()]"
   ]
  },
  {
   "cell_type": "code",
   "execution_count": 15,
   "metadata": {},
   "outputs": [],
   "source": [
    "## Se elimina la variable ID, no es relevante para el análisis\n",
    "train.drop('ID', axis = 1, inplace = True)"
   ]
  },
  {
   "cell_type": "markdown",
   "metadata": {},
   "source": [
    "## Limpieza y EDA"
   ]
  },
  {
   "cell_type": "markdown",
   "metadata": {},
   "source": [
    "### a. Control de calidad de los datos.\n",
    "En esta sección se realiza una revisión del tipo de variables y el número de datos faltantes en el data set de entrenamiento."
   ]
  },
  {
   "cell_type": "code",
   "execution_count": 16,
   "metadata": {},
   "outputs": [
    {
     "data": {
      "image/png": "[encoded data removed]",
      "text/plain": [
       "<Figure size 640x480 with 1 Axes>"
      ]
     },
     "metadata": {},
     "output_type": "display_data"
    }
   ],
   "source": [
    "ax = train.isnull().sum()[train.isnull().sum()>0].sort_values().plot(kind = 'barh')\n",
    "ax.bar_label(ax.containers[0])\n",
    "ax.set_title('Variables con valores nulos')\n",
    "ax.get_xaxis().set_visible(False)\n",
    "plt.show()"
   ]
  },
  {
   "cell_type": "code",
   "execution_count": 17,
   "metadata": {},
   "outputs": [
    {
     "data": {
      "text/plain": [
       "0    6665\n",
       "1    1244\n",
       "2     140\n",
       "3      18\n",
       "4       1\n",
       "Name: count, dtype: int64"
      ]
     },
     "execution_count": 17,
     "metadata": {},
     "output_type": "execute_result"
    }
   ],
   "source": [
    "train.isnull().sum(axis = 1).value_counts()"
   ]
  },
  {
   "cell_type": "markdown",
   "metadata": {},
   "source": [
    "* En el control de calidad de los datos, se encuentra que el dataset consta de 8.608 observaciones y 11 variables, las cuales todas tienen el tipo de variable esperado. \n",
    "\n",
    "* Con respecto a los datos faltantes, la variable ***Work_Experience*** es la que mayor cantidad de nulos tiene (829), seguido de ***Family_Size*** (335).\n",
    "\n",
    "* En cuanto a el número de nulos por observación se encuentra que, existen 6.665 registros completos, 1.244 registros con un dato faltante en 1 columna, 140 registros con datos faltantes en 2 columnas y 19 registros con al menos 3 columnas sin dato."
   ]
  },
  {
   "cell_type": "code",
   "execution_count": 18,
   "metadata": {},
   "outputs": [],
   "source": [
    "## SE DEFINE FUNCIÓN PARA SEPARAR LAS VARIABLES CATEGÓRICAS, NUMÉRICAS Y LA DEPENDIENTE\n",
    "def SepararNumCate(df : pd.DataFrame):\n",
    "    '''Returns a triplet with column names (numerical, categorical, target)\n",
    "    '''\n",
    "    numerical = df.select_dtypes(include = 'number').columns.to_list()\n",
    "    categorical = df.select_dtypes(exclude = 'number').columns.to_list()\n",
    "    categorical.remove('Segmentation') ## REMOVES THE TARGET VARIABLE\n",
    "    target = ['Segmentation']\n",
    "    return numerical, categorical, target\n",
    "\n",
    "\n",
    "num_idx, categ_idx, target_idx = SepararNumCate(train)"
   ]
  },
  {
   "cell_type": "code",
   "execution_count": 19,
   "metadata": {},
   "outputs": [
    {
     "name": "stdout",
     "output_type": "stream",
     "text": [
      "Categorías de la variable \"Gender\"  ['Male' 'Female'] \n",
      "\n",
      "Categorías de la variable \"Ever_Married\"  ['No' 'Yes' nan] \n",
      "\n",
      "Categorías de la variable \"Graduated\"  ['No' 'Yes' nan] \n",
      "\n",
      "Categorías de la variable \"Profession\"  ['Healthcare' 'Engineer' 'Lawyer' 'Entertainment' 'Artist' 'Executive'\n",
      " 'Doctor' 'Homemaker' 'Marketing' nan] \n",
      "\n",
      "Categorías de la variable \"Spending_Score\"  ['Low' 'Average' 'High'] \n",
      "\n",
      "Categorías de la variable \"Var_1\"  ['Cat_4' 'Cat_6' 'Cat_7' 'Cat_3' 'Cat_1' 'Cat_2' nan 'Cat_5'] \n",
      "\n",
      "Categorías de la variable \"Segmentation\"  ['D' 'A' 'B' 'C'] \n",
      "\n"
     ]
    }
   ],
   "source": [
    "## Identificar los valores únicos de las variables categóricas\n",
    "for i in train[categ_idx + target_idx].columns:\n",
    "    print(f'Categorías de la variable \"{i}\" ',train[i].unique(),'\\n')"
   ]
  },
  {
   "cell_type": "markdown",
   "metadata": {},
   "source": [
    "Para elegir qué se va a realizar con respecto a los valores faltantes se proponen 3 estrategias que se pondrán a prueba:\n",
    "\n",
    "> - 1. Un data set de entrenamiento eliminando todos las observaciones que tengan al menos 1 dato faltante, lo que representa quedarse con un 75% del data set de entrenamiento inicial.\n",
    "\n",
    "> - 2. Un data set de entrenamiento donde se eliminan las observaciones que tienen 2 o más datos nulos y a la observación que quede con dato un nulo se le asigna el valor del dato, mediante algún método de imputación.\n",
    "\n",
    "> - 3. Un data set donde no se elimina ningún registro, se asigna el valor de los datos por algún método de imputación.\n"
   ]
  },
  {
   "cell_type": "markdown",
   "metadata": {},
   "source": [
    "**Definimos los pipelines y la función por la cual va a pasar cada uno de los dataset de las anteriores estrategias**"
   ]
  },
  {
   "cell_type": "code",
   "execution_count": 21,
   "metadata": {},
   "outputs": [],
   "source": [
    "### Pipelines\n",
    "\n",
    "numerical_pipeline = Pipeline( steps = [\n",
    "    ('scaler',StandardScaler())\n",
    "])\n",
    "\n",
    "categ_pipeline = Pipeline( steps = [\n",
    "    ('encoder',OneHotEncoder(handle_unknown = 'ignore'))\n",
    "])\n",
    "\n",
    "## ColumnTransformer\n",
    "columnsTransf = ColumnTransformer(transformers = [\n",
    "                    ('numerical_pl',numerical_pipeline,num_idx),\n",
    "                    ('categorical_pl',categ_pipeline,categ_idx)\n",
    "                            ],\n",
    "                    remainder = 'drop'\n",
    "                                )\n",
    "\n",
    "rf_model = RandomForestClassifier(random_state = 123)\n",
    "lr_model = LogisticRegression(random_state = 123)\n",
    "nb_model = GaussianNB()\n",
    "kn_clf_model = KNeighborsClassifier()\n",
    "xgb_clf = xgb.XGBClassifier(random_state = 123)\n",
    "\n",
    "### Diccionario que contiene todos los pipelines\n",
    "pl_dict = { 'RandomForest' : Pipeline( steps = [\n",
    "                                    ('col_transf',columnsTransf),\n",
    "                                    ('model',rf_model)\n",
    "                                        ]),\n",
    "            'LogisticRegression' : Pipeline( steps = [\n",
    "                                    ('col_transf',columnsTransf),\n",
    "                                    ('model',lr_model)\n",
    "                                        ]),\n",
    "            'NaiveBayes' : Pipeline( steps = [\n",
    "                                    ('col_transf',columnsTransf),\n",
    "                                    ('model',nb_model)\n",
    "                                         ]),\n",
    "            'KNeighborsClassifier' : Pipeline( steps = [\n",
    "                                    ('col_transf',columnsTransf),\n",
    "                                    ('model',kn_clf_model)\n",
    "                                         ]),\n",
    "            'XGBClassifier' : Pipeline( steps = [\n",
    "                                    ('col_transf',columnsTransf),\n",
    "                                    ('model',xgb_clf)\n",
    "                                         ])                                            \n",
    "           }\n",
    "\n",
    "## Crear el pipeline para la imputación\n",
    "num_imputer = Pipeline(steps = [\n",
    "        ('num_imputer',SimpleImputer(strategy = 'median')),\n",
    "])\n",
    "\n",
    "cat_imputer = Pipeline(steps = [\n",
    "    ('cat_imputer',SimpleImputer(strategy = 'most_frequent'))\n",
    "])\n",
    "\n",
    "columnImputer = ColumnTransformer(transformers = [\n",
    "    ('Numerical',num_imputer,num_idx),\n",
    "    ('Categorical', cat_imputer, categ_idx)\n",
    "                                ], \n",
    "            remainder = 'passthrough' ## En este caso no se utiliza el passthrough porque necesitamos nuestra variable objetivo, ya que este pipeline es sólo para transformar columna\n",
    ")\n",
    "\n",
    "imputer_pipe = Pipeline(steps=[\n",
    "    ('columns_transf',columnImputer)\n",
    "])\n",
    "\n",
    "def ImputersTest(df : pd.DataFrame,  numerical_columns : list, \n",
    "                 categorical_columns : list, target : str, model : str): \n",
    "    if model in pl_dict.keys():\n",
    "        pipe = clone(pl_dict.get(model))\n",
    "        print(f\"Accuracy with CV : {cross_val_score(pipe,df[numerical_columns + categorical_columns], df[target], cv = 5, scoring = 'accuracy').mean()}\")\n",
    "        return None\n",
    "    else:\n",
    "        print(f'{model} no es un modelo implementado, las opciones son {list(pl_dict.keys())}')"
   ]
  },
  {
   "cell_type": "markdown",
   "metadata": {},
   "source": [
    "### Estrategia 1"
   ]
  },
  {
   "cell_type": "markdown",
   "metadata": {},
   "source": [
    "No hacer ningún tratamiento de imputación, se eliminan las filas que contengan NA's."
   ]
  },
  {
   "cell_type": "code",
   "execution_count": 22,
   "metadata": {},
   "outputs": [
    {
     "name": "stdout",
     "output_type": "stream",
     "text": [
      "Accuracy with CV : 0.48012003000750186\n"
     ]
    }
   ],
   "source": [
    "train1 = train.dropna( axis = 0).copy()\n",
    "ImputersTest(train1 ,num_idx, categ_idx, target_idx, 'RandomForest')"
   ]
  },
  {
   "cell_type": "markdown",
   "metadata": {},
   "source": [
    "### Estrategia 2"
   ]
  },
  {
   "cell_type": "code",
   "execution_count": 23,
   "metadata": {},
   "outputs": [
    {
     "name": "stdout",
     "output_type": "stream",
     "text": [
      "Accuracy with CV : 0.48173082535897604\n"
     ]
    }
   ],
   "source": [
    "## Se eliminan las filas que tienen datos faltantes en 2 o más de sus columnas\n",
    "train2 = train.drop(train.loc[train.isna().sum(axis = 1) >= 2].index).copy()\n",
    "\n",
    "## Se almacena el imputador de las variables, por si se debe usar en los datos de prueba.\n",
    "imput_str2 = clone(imputer_pipe)\n",
    "imput_str2.fit(train2)\n",
    "train2_imp = pd.DataFrame(imput_str2.transform(train2), columns = num_idx + categ_idx + target_idx)\n",
    "ImputersTest(train2_imp,num_idx,categ_idx,target_idx,'RandomForest')"
   ]
  },
  {
   "cell_type": "markdown",
   "metadata": {},
   "source": [
    "### Estrategia 3"
   ]
  },
  {
   "cell_type": "code",
   "execution_count": 24,
   "metadata": {},
   "outputs": [
    {
     "name": "stdout",
     "output_type": "stream",
     "text": [
      "Accuracy with CV : 0.476822763620552\n"
     ]
    }
   ],
   "source": [
    "train3 = train.copy()\n",
    "\n",
    "## Se almacena el imputador de las variables, por si se debe usar en los datos de prueba.\n",
    "imput_str3 = clone(imputer_pipe)\n",
    "imput_str3.fit(train3)\n",
    "train3_imp = pd.DataFrame(imput_str3.transform(train3), columns = num_idx + categ_idx + target_idx)\n",
    "ImputersTest(train3_imp,num_idx,categ_idx,target_idx,'RandomForest')"
   ]
  },
  {
   "cell_type": "markdown",
   "metadata": {},
   "source": [
    "* De las tres estrategias propuestas y evaluadas, todas presentaron un accuracy similar, No obstante si se eliminan todos los datos faltantes (estrategia 1) se perdería alrededor del 17% de las observaciones, mientras que si se eliminan sólo aquellos registros cuyas observaciones tengan nulos en 2 o más variables se perdería alrededor del 2% del dataset original. Por lo cual, se realizará el resto del ejercicio con el dataset derivado de la estrategia 2, la cual consitió en eliminar los registros con 2 o más datos nulos y a los registros con 1 dato nulo realizar el proceso de imputación."
   ]
  },
  {
   "cell_type": "code",
   "execution_count": 25,
   "metadata": {},
   "outputs": [],
   "source": [
    "## Definimos el dataset imputado para seguir trabajando el resto del ejercicio\n",
    "del train ## se elimina el df que tenía este nombre\n",
    "\n",
    "train = train2_imp.copy().astype(train1.dtypes.to_dict()) ## Se le asignan el tipo de variables de uno de los datasets ya que con la imputación todas las variables quedan como tipo object."
   ]
  },
  {
   "cell_type": "markdown",
   "metadata": {},
   "source": [
    "### b. Visualización de la información"
   ]
  },
  {
   "cell_type": "markdown",
   "metadata": {},
   "source": [
    "* **Balanceo de la variable dependiente**\n",
    "\n",
    "  Cada una de las categorías de la variable Segmentation contiene entre el 23% y 28% de las observaciones, la diferencia entre la categoria con mayor porcentaje y menor porcentaje no supera los 5 puntos porcentuales. Por lo tanto, al dataset no hay que realizarle procesos de balanceo."
   ]
  },
  {
   "cell_type": "code",
   "execution_count": 26,
   "metadata": {},
   "outputs": [
    {
     "data": {
      "image/png": "[encoded data removed]",
      "text/plain": [
       "<Figure size 640x480 with 1 Axes>"
      ]
     },
     "metadata": {},
     "output_type": "display_data"
    }
   ],
   "source": [
    "ax = train.Segmentation.value_counts(normalize = True).sort_index().plot( kind = 'bar',colormap= 'vlag')\n",
    "ax.get_yaxis().set_visible(False)\n",
    "labels = (train.Segmentation.value_counts(normalize = True).sort_index()*100).round(1).astype('str') + '%' ## ETIQUETA DE LAS BARRAS QUE SE MUESTRE EN %\n",
    "ax.tick_params(axis='x', rotation = 0)  ## ROTAR LAS ETIQUETAS DEL EJE X\n",
    "ax.set_title(\"Categorías variable dependiente\")\n",
    "for container in ax.containers:\n",
    "    ax.bar_label(container, labels = labels)\n",
    "plt.show()"
   ]
  },
  {
   "cell_type": "markdown",
   "metadata": {},
   "source": [
    "### Descripción variable numéricas vs variable dependiente\n",
    "En la siguiente figura se encuentra la distribución de las variable numéricas independientes en terminos de la variable \"Segementation\" que es la variable dependiente. De izquierda a derecha se encuentral la Edad, en la parte central la experencia laboral y en la zona derecha el tamaño de la familia.\n",
    "\n",
    "* **Segmentación vs Edad:**\n",
    "\n",
    " En este gráfico el grupo D, tiene en promedio una edad menor que el resto de grupos, 32 años. Sin embargo, es el grupo con mayor asimetría en la distribucción de la variable \"Age\". Los 3 grupos restantes tienen una edad promedio muy cercana a los 50 años.\n",
    "\n",
    "* **Segmentación vs Experiencia laboral**\n",
    "\n",
    "En cuanto la distribución de la variable \"Work experience\", para todas las categorías de Segmentation se encuentra que el promedio esta entre los 2 y 3 años. Sin embargo, es el grupo D el de mayor promedio y también es posible identificar que los registros en esta grupo son los quee más experiencia tiene puesto que un 75% de los individuos tienen una experiencia laboral de 6 años o menos, y el grupo C es el que menos experiencia tiene ya que el    de los individuos tienen una experiencia de 3 años o menos\n",
    "\n",
    "\n",
    "* **Segmentation vs Family Size**\n",
    "\n",
    "El tamaño del núcleo familiar tiene una distribución similar para los segmentos B, C y D, donde el 75% de los individuos cada uno de estos grupos tiene un núcleo familiar conformado por 4 o menos personas, por otra parte el núcleo familiar del Segmento A es más reducido donde el 75% de los individuos tienen un núcleo familiar de 3 o menos personas."
   ]
  },
  {
   "cell_type": "code",
   "execution_count": 27,
   "metadata": {},
   "outputs": [
    {
     "data": {
      "image/png": "[encoded data removed]",
      "text/plain": [
       "<Figure size 1400x400 with 3 Axes>"
      ]
     },
     "metadata": {},
     "output_type": "display_data"
    }
   ],
   "source": [
    "fig, (ax1 ,ax2, ax3) = plt.subplots(1,3, figsize = (14,4))\n",
    "sns.boxplot(data = train, x = 'Segmentation', y = 'Age',order = train.Segmentation.sort_values().unique(), ax = ax1, showmeans = True, palette = 'vlag').set(title='Age vs Segmentación')\n",
    "sns.boxplot(data = train, x = 'Segmentation', y = 'Work_Experience', order = train.Segmentation.sort_values().unique(), ax = ax2, showmeans = True,palette=\"vlag\").set(title='Work experience vs Segmentación')\n",
    "sns.boxplot(data = train, x = 'Segmentation', y = 'Family_Size', order = train.Segmentation.sort_values().unique(), ax = ax3, showmeans = True, palette=\"vlag\").set(title='Family size vs Segmentación')\n",
    "\n",
    "plt.show()"
   ]
  },
  {
   "cell_type": "markdown",
   "metadata": {},
   "source": [
    "### Descripción variable categóricas vs variable dependiente\n",
    "* **Género vs Segmentación**\n",
    "\n",
    "   Con respecto a la distribución del género por Segmentación, la participación en todos los grupos de ambos géneros es similar a excepción del grupo D, donde la participación de los hombres es casi del 60%.\n",
    "\n",
    "* **Ever_Married vs Segmentación**\n",
    "  \n",
    "  La variable categórica que toma en cuenta si el individuo ha estado casado alguna vez presenta la siguiente distribución: en los grupos A, B y C la mayoría de personas han estado casados, teniendo una mayor participación elos grupos A y B alcanzando casi el 80%. El grupo D por el contrario más del 70% de los individuos no han estado casados, este grupo como se vió en anteriores gráficas es el grupo con menor promedio de edad.\n",
    "  \n",
    "* **Graduated vs Segmentation**\n",
    "\n",
    "    La variable binaria que captura si el individuo se graduó sigue el comportamiento siguiente diferenciándola por la Segmentación: En los grupos A, B y C más del 60% son graduados, caso contrario en el grupo D donde poco más del 60% de los individuos no son graduados.\n",
    "\n",
    "* **Spending_Score vs Segmentation**\n",
    "    La variable categórica que captura si el puntaje de consumo es bajo, medio o alto presenta la siguiente distribución: Los grupos A, B y D predominan las personas que tienen un consumo bajo, siendo en el grupo D casi la totalidad de personas que tienen un consumo bajo, por su parte en el grupo C  predomina el consumo promedio con un poco más del 40%.\n",
    "\n",
    "* **Profession vs Segmentation**\n",
    "  \n",
    "  Con respecto a la profesión del cliente:\n",
    "    - El grupo A la mayor participación la tienen los artistas con casi el 30% de los individuos seguido de los profesionales del entretenimiento.\n",
    "    - El grupo B la mayor participación la tienen los artistas con más del 40% de los individuos seguido por los profesionales del entretenimiento.\n",
    "    - El grupo C la mayor participación la tienen los artistas con más del 50% de los individuos seguido por los ejecutivos.\n",
    "    - El grupo D la mayor participación la tienen los profesionales de la salud con más del 40% seguido por los doctores y profesionales del entretenamiento.\n",
    "     \n",
    "* **Var_1 vs Segmentation**\n",
    "\n",
    "  Con respecto a una categoría anónima que se le asigna a cada cliente la categoría 6 tiene la mayor participación en todos los segmentos con más del 60% de todos los individuos para los grupos A, B y C, y más del 50% en el grupo D"
   ]
  },
  {
   "cell_type": "code",
   "execution_count": 28,
   "metadata": {},
   "outputs": [
    {
     "data": {
      "image/png": "[encoded data removed]",
      "text/plain": [
       "<Figure size 1800x1200 with 6 Axes>"
      ]
     },
     "metadata": {},
     "output_type": "display_data"
    }
   ],
   "source": [
    "fig, ((ax1, ax2),\n",
    "      (ax3, ax4),\n",
    "      (ax5, ax6)) = plt.subplots(3,2, figsize = (18,12), sharey = True)\n",
    "pd.crosstab(train.Segmentation,train.Gender,train.Age,aggfunc='count', normalize = 'index').plot(kind = 'bar', ax = ax1, edgecolor = 'black',colormap= 'vlag')\n",
    "ax1.get_yaxis().set_major_formatter(matplotlib.ticker.PercentFormatter(xmax = 1,decimals = 0))  ## MUESTRA LOS TICKS DEL EJE Y EN PORCENTAJE\n",
    "ax1.tick_params(axis='x', rotation=0)  ## ROTAR LAS ETIQUETAS DEL EJE X\n",
    "ax1.legend(loc = 'upper left', title = 'Gender')\n",
    "ax1.set_xlabel(None)\n",
    "\n",
    "pd.crosstab(train.Segmentation,train.Ever_Married,train.Age,aggfunc='count', normalize = 'index').plot(kind = 'bar', ax = ax2, edgecolor = 'black', colormap= 'vlag')\n",
    "ax2.get_yaxis().set_major_formatter(matplotlib.ticker.PercentFormatter(xmax = 1,decimals = 0))  ## MUESTRA LOS TICKS DEL EJE Y EN PORCENTAJE\n",
    "ax2.tick_params(axis='x', rotation=0) \n",
    "ax2.legend(loc = 'upper left',  title = 'Ever_Married')\n",
    "ax2.set_xlabel(None)\n",
    "\n",
    "pd.crosstab(train.Segmentation,train.Graduated,train.Age,aggfunc='count', normalize = 'index').plot(kind = 'bar', ax = ax3, edgecolor = 'black',colormap= 'vlag')\n",
    "ax3.get_yaxis().set_major_formatter(matplotlib.ticker.PercentFormatter(xmax = 1,decimals = 0))  ## MUESTRA LOS TICKS DEL EJE Y EN PORCENTAJE\n",
    "ax3.tick_params(axis='x', rotation=0)  ## ROTAR LAS ETIQUETAS DEL EJE X\n",
    "ax3.legend(loc = 'upper left', title = 'Graduated')\n",
    "ax3.set_xlabel(None)\n",
    "\n",
    "pd.crosstab(train.Segmentation,train.Spending_Score,train.Age,aggfunc='count', normalize = 'index').plot(kind = 'bar', ax = ax4, edgecolor = 'black',colormap= 'vlag')\n",
    "ax4.get_yaxis().set_major_formatter(matplotlib.ticker.PercentFormatter(xmax = 1,decimals = 0))  ## MUESTRA LOS TICKS DEL EJE Y EN PORCENTAJE\n",
    "ax4.tick_params(axis='x', rotation = 0) \n",
    "ax4.legend(loc = 'upper left', title = 'Spending_Score')\n",
    "ax4.set_xlabel(None)\n",
    "\n",
    "pd.crosstab(train.Segmentation,train.Profession,train.Age,aggfunc='count', normalize = 'index').plot(kind = 'bar', ax = ax5, edgecolor = 'black',colormap= 'vlag')\n",
    "ax5.get_yaxis().set_major_formatter(matplotlib.ticker.PercentFormatter(xmax = 1,decimals = 0))  ## MUESTRA LOS TICKS DEL EJE Y EN PORCENTAJE\n",
    "ax5.tick_params(axis='x', rotation=0)  ## ROTAR LAS ETIQUETAS DEL EJE X\n",
    "ax5.legend(loc = 'upper left', ncols = 3, title = 'Profession')\n",
    "ax5.set_xlabel(None)\n",
    "\n",
    "pd.crosstab(train.Segmentation,train.Var_1,train.Age,aggfunc='count', normalize = 'index').plot(kind = 'bar', ax = ax6, edgecolor = 'black',colormap= 'vlag')\n",
    "ax6.get_yaxis().set_major_formatter(matplotlib.ticker.PercentFormatter(xmax = 1,decimals = 0))  ## MUESTRA LOS TICKS DEL EJE Y EN PORCENTAJE\n",
    "ax6.tick_params(axis='x', rotation=0) \n",
    "ax6.legend(loc = 'upper left', ncols = 3)\n",
    "ax6.set_xlabel(None)\n",
    "fig.suptitle('Variables categóricas vs variable objetivo', fontsize = 20)\n",
    "plt.show()"
   ]
  },
  {
   "cell_type": "code",
   "execution_count": 30,
   "metadata": {},
   "outputs": [],
   "source": [
    "def calcular_coeficiente_contingencia(df: pd.DataFrame, cols: list, target_col: str) -> pd.DataFrame:\n",
    "    resultados = []\n",
    "    for col in cols:\n",
    "        tabla_contingencia = pd.crosstab(df[col], df[target_col])\n",
    "        chi2, p, dof, expected = chi2_contingency(tabla_contingencia)\n",
    "        n = tabla_contingencia.values.sum()\n",
    "        coef_contingencia = np.sqrt(chi2 / (n * min(len(tabla_contingencia.index) - 1, len(tabla_contingencia.columns) - 1)))\n",
    "        resultados.append([col, coef_contingencia])\n",
    "    df_resultado = pd.DataFrame(resultados, columns=['Variable', 'Coeficiente de Contingencia'])\n",
    "    df_resultado.sort_values(by='Coeficiente de Contingencia', ascending=False, inplace=True)\n",
    "    df_resultado.reset_index(drop=True, inplace=True)\n",
    "    return df_resultado.round(4)"
   ]
  },
  {
   "cell_type": "markdown",
   "metadata": {},
   "source": [
    "**Interpretación asociación entre variables categóricas independientes y variable objetivo**\n",
    " - Todas las variables tienen un coeficiente menor a 0.6, por lo que ninguna presenta una asociación relativamente intensa con la variable objetivo. Sin embargo, la variable Ever_Married es la que mayor coeficiente de asociación tiene.\n"
   ]
  },
  {
   "cell_type": "code",
   "execution_count": 31,
   "metadata": {},
   "outputs": [
    {
     "data": {
      "text/html": [
       "<div>\n",
       "<style scoped>\n",
       "    .dataframe tbody tr th:only-of-type {\n",
       "        vertical-align: middle;\n",
       "    }\n",
       "\n",
       "    .dataframe tbody tr th {\n",
       "        vertical-align: top;\n",
       "    }\n",
       "\n",
       "    .dataframe thead th {\n",
       "        text-align: right;\n",
       "    }\n",
       "</style>\n",
       "<table border=\"1\" class=\"dataframe\">\n",
       "  <thead>\n",
       "    <tr style=\"text-align: right;\">\n",
       "      <th></th>\n",
       "      <th>Variable</th>\n",
       "      <th>Coeficiente de Contingencia</th>\n",
       "    </tr>\n",
       "  </thead>\n",
       "  <tbody>\n",
       "    <tr>\n",
       "      <th>0</th>\n",
       "      <td>Ever_Married</td>\n",
       "      <td>0.4275</td>\n",
       "    </tr>\n",
       "    <tr>\n",
       "      <th>1</th>\n",
       "      <td>Graduated</td>\n",
       "      <td>0.3711</td>\n",
       "    </tr>\n",
       "    <tr>\n",
       "      <th>2</th>\n",
       "      <td>Profession</td>\n",
       "      <td>0.3387</td>\n",
       "    </tr>\n",
       "    <tr>\n",
       "      <th>3</th>\n",
       "      <td>Spending_Score</td>\n",
       "      <td>0.3175</td>\n",
       "    </tr>\n",
       "    <tr>\n",
       "      <th>4</th>\n",
       "      <td>Var_1</td>\n",
       "      <td>0.1015</td>\n",
       "    </tr>\n",
       "    <tr>\n",
       "      <th>5</th>\n",
       "      <td>Gender</td>\n",
       "      <td>0.0460</td>\n",
       "    </tr>\n",
       "  </tbody>\n",
       "</table>\n",
       "</div>"
      ],
      "text/plain": [
       "         Variable  Coeficiente de Contingencia\n",
       "0    Ever_Married                       0.4275\n",
       "1       Graduated                       0.3711\n",
       "2      Profession                       0.3387\n",
       "3  Spending_Score                       0.3175\n",
       "4           Var_1                       0.1015\n",
       "5          Gender                       0.0460"
      ]
     },
     "execution_count": 31,
     "metadata": {},
     "output_type": "execute_result"
    }
   ],
   "source": [
    "calcular_coeficiente_contingencia(train1,categ_idx, 'Segmentation')"
   ]
  },
  {
   "cell_type": "markdown",
   "metadata": {},
   "source": [
    "### c. Extracción de información de los datos"
   ]
  },
  {
   "cell_type": "markdown",
   "metadata": {},
   "source": [
    "### d. Comprensión y limpieza de datos\n"
   ]
  },
  {
   "cell_type": "markdown",
   "metadata": {},
   "source": [
    "### e. Entrenar el modelo de clasificación"
   ]
  },
  {
   "cell_type": "code",
   "execution_count": null,
   "metadata": {},
   "outputs": [],
   "source": [
    "## Definir protocolos de evaluación\n",
    "def ClfScores(model, x_train,y_train,x_test,y_test):\n",
    "    '''\n",
    "    model : must be a previously fitted estimator\n",
    "    '''\n",
    "    yTest_pred = model.predict(x_test)\n",
    "    yTrain_pred = model.predict(x_train)\n",
    "    acc_test = accuracy_score(y_test, yTest_pred)\n",
    "    acc_train = accuracy_score(y_train, yTrain_pred)\n",
    "    ck_train = cohen_kappa_score(y_train, yTrain_pred)\n",
    "    ck_test = cohen_kappa_score(y_test, yTest_pred)\n",
    "    precision_train = precision_score(y_train, yTrain_pred, average = None)\n",
    "    precision_test = precision_score(y_test, yTest_pred, average = None)\n",
    "    rec_train = recall_score(y_train, yTrain_pred, average = None)\n",
    "    rec_test = recall_score(y_test, yTest_pred, average = None)\n",
    "    metrics = {\n",
    "                'Accuracy test' : acc_test,\n",
    "                'Accuracy train' : acc_train,\n",
    "                'Cohen Kappa train' :  ck_train,\n",
    "                'Cohen Kappa test' :  ck_test,\n",
    "                'Precision train' : precision_train,\n",
    "                'Precision test' : precision_test,\n",
    "                'Recall train' :  rec_train,\n",
    "                'Recall test'  :  rec_test\n",
    "    }\n",
    "    for i in metrics.keys():\n",
    "        print(i,' : ', metrics.get(i))\n",
    "    return None"
   ]
  },
  {
   "cell_type": "markdown",
   "metadata": {},
   "source": [
    "* Se carga el conjunto de prueba \"Test.csv\" con el cual se va a validar el desempeño de los modelos entrenados."
   ]
  },
  {
   "cell_type": "code",
   "execution_count": null,
   "metadata": {},
   "outputs": [],
   "source": [
    "df_test = pd.read_csv(\"Test.csv\")\n",
    "df_test.info()"
   ]
  },
  {
   "cell_type": "code",
   "execution_count": null,
   "metadata": {},
   "outputs": [],
   "source": [
    "## Se verifica si hay datos duplicados\n",
    "df_test.loc[df_test.duplicated()]"
   ]
  },
  {
   "cell_type": "code",
   "execution_count": null,
   "metadata": {},
   "outputs": [],
   "source": [
    "## Se elimina la variable ID, no es relevante para el análisis\n",
    "df_test.drop('ID', axis = 1, inplace = True)\n",
    "\n",
    "# Separar el data set de test con la función\n",
    "num_idx_test, categ_idx_test, target_idx_test = SepararNumCate(df_test)\n",
    "\n",
    "# Usar el pipeline de imputación (imput_str2) previamente entrenado\n",
    "test_clean = pd.DataFrame(imput_str2.transform(df_test), columns = num_idx_test + categ_idx_test + target_idx_test)\n",
    "\n",
    "test_clean_ = test_clean.copy().astype(train1.dtypes.to_dict()) ## Se le asignan el tipo de variables de uno de los datasets ya que con la imputación todas las variables quedan como tipo object."
   ]
  },
  {
   "cell_type": "code",
   "execution_count": null,
   "metadata": {},
   "outputs": [],
   "source": [
    "## HoldOut -> Train (80%), Validation (20%)\n",
    "X_train, X_val, y_train, y_val = train_test_split(train[num_idx + categ_idx], train[target_idx], test_size = 0.2, random_state = 123)\n",
    "\n",
    "target_transf = LabelEncoder()  ## Es necesario etiquetar la variable objetivo, algunos algoritmos lo requieren (XGBClassifier)\n",
    "y_train = target_transf.fit_transform(y_train)\n",
    "y_val = target_transf.transform(y_val)"
   ]
  },
  {
   "cell_type": "code",
   "execution_count": null,
   "metadata": {},
   "outputs": [],
   "source": [
    "## Dividir el conjunto de prueba\n",
    "X_test = test_clean_[num_idx_test + categ_idx_test]\n",
    "y_test = test_clean_[target_idx_test]\n",
    "y_test = target_transf.transform(y_test)"
   ]
  },
  {
   "cell_type": "markdown",
   "metadata": {},
   "source": [
    "* Entrenamiento de los modelos"
   ]
  },
  {
   "cell_type": "code",
   "execution_count": null,
   "metadata": {},
   "outputs": [],
   "source": [
    "## Baseline\n",
    "dummy_clf = DummyClassifier(strategy = 'most_frequent')\n",
    "dummy_clf.fit(X_train, y_train)\n",
    "ClfScores(dummy_clf,X_train, y_train, X_val, y_val)"
   ]
  },
  {
   "cell_type": "markdown",
   "metadata": {},
   "source": [
    "* Grid parameters"
   ]
  },
  {
   "cell_type": "code",
   "execution_count": null,
   "metadata": {},
   "outputs": [],
   "source": [
    "## Grid parameters for each of the models\n",
    "rf_grid_params = { 'model__max_depth': [4,8,12,20],\n",
    "                'model__max_features': ['sqrt'],\n",
    "                'model__max_leaf_nodes': [2,4,6,8],\n",
    "                'model__min_samples_leaf': [5,10,20],\n",
    "                'model__min_samples_split': [2, 5, 10,20],\n",
    "                'model__n_estimators': [100,200,300]}\n",
    "\n",
    "nb_grid_params = {'model__var_smoothing': np.logspace(0,-9, num = 100)}\n",
    "\n",
    "kn_grid_params = {'model__n_neighbors' : np.arange(1,40)}\n",
    "\n",
    "xgb_grid_params = {'model__learning_rate': [0.01,0.03,0.1,],\n",
    "                  'model__subsample'    : [1, 0.5, 0.2],\n",
    "                  'model__n_estimators' : [500,1000,1500],\n",
    "                  'model__reg_alpha': [0.01,0.05,0.1,1,10],\n",
    "                  'model__reg_lambda': [0.01,0.05,0.1,1,10],\n",
    "                  'model__max_depth'    : [None,5,7,12,15,20] }"
   ]
  },
  {
   "cell_type": "code",
   "execution_count": null,
   "metadata": {},
   "outputs": [],
   "source": [
    "## RandomForest // NO CORRER DEMORA ALREDEDOR DE 10 MIN ENTRENANDO - ES MEJOR CARGAR EL JOBLIB YA ENTRENADO\n",
    "rf_gs = GridSearchCV(clone(pl_dict.get('RandomForest')), rf_grid_params, n_jobs = -4, cv = 5, scoring = 'accuracy')\n",
    "rf_gs.fit(X_train, y_train)\n",
    "rf_model = clone(pl_dict.get('RandomForest')).set_params(**rf_gs.best_params_)\n",
    "rf_model.fit(X_train, y_train)\n",
    "ClfScores(rf_model,X_train, y_train, X_val, y_val)"
   ]
  },
  {
   "cell_type": "code",
   "execution_count": null,
   "metadata": {},
   "outputs": [],
   "source": [
    "# ## Guardar el modelo entrenado\n",
    "# joblib.dump(rf_model, 'RF_pl_04122023.joblib')"
   ]
  },
  {
   "cell_type": "code",
   "execution_count": null,
   "metadata": {},
   "outputs": [],
   "source": [
    "## Cargar el modelo entrenado\n",
    "rf_saved = joblib.load('RF_pl_04122023.joblib')\n",
    "ClfScores(rf_saved,X_train, y_train, X_val, y_val)"
   ]
  },
  {
   "cell_type": "code",
   "execution_count": null,
   "metadata": {},
   "outputs": [],
   "source": [
    "## LogisticRegression\n",
    "lr_model = clone(pl_dict.get('LogisticRegression'))\n",
    "lr_model.fit(X_train, y_train)\n",
    "ClfScores(lr_model,X_train, y_train, X_val, y_val)"
   ]
  },
  {
   "cell_type": "code",
   "execution_count": null,
   "metadata": {},
   "outputs": [],
   "source": [
    "## NaiveBayes\n",
    "nb_gs = GridSearchCV(clone(pl_dict.get('NaiveBayes')), nb_grid_params, n_jobs = -4, cv = 5, scoring = 'accuracy')\n",
    "nb_gs.fit(X_train, y_train)\n",
    "nb_model = clone(pl_dict.get('NaiveBayes')).set_params(**nb_gs.best_params_)\n",
    "nb_model.fit(X_train, y_train)\n",
    "ClfScores(nb_model,X_train, y_train, X_val, y_val)"
   ]
  },
  {
   "cell_type": "code",
   "execution_count": null,
   "metadata": {},
   "outputs": [],
   "source": [
    "## KNeighborsClassifier\n",
    "kn_gs = GridSearchCV(clone(pl_dict.get('KNeighborsClassifier')), kn_grid_params, n_jobs = -4, cv = 5, scoring = 'accuracy')\n",
    "kn_gs.fit(X_train, y_train)\n",
    "kn_model = clone(pl_dict.get('KNeighborsClassifier')).set_params(**kn_gs.best_params_)\n",
    "kn_model.fit(X_train, y_train)\n",
    "ClfScores(kn_model,X_train, y_train, X_val, y_val)"
   ]
  },
  {
   "cell_type": "code",
   "execution_count": null,
   "metadata": {},
   "outputs": [],
   "source": [
    "## XGBClassifier // NO CORRER DEMORA ALREDEDOR DE 30 MIN ENTRENANDO - ES MEJOR CARGAR EL JOBLIB YA ENTRENADO\n",
    "xgb_gs = GridSearchCV(clone(pl_dict.get('XGBClassifier')), xgb_grid_params, n_jobs = -4, cv = 5, scoring = 'accuracy')\n",
    "xgb_gs.fit(X_train, y_train)\n",
    "xgb_model = clone(pl_dict.get('XGBClassifier')).set_params(**xgb_gs.best_params_)\n",
    "xgb_model.fit(X_train, y_train)\n",
    "ClfScores(xgb_model,X_train, y_train, X_val, y_val)"
   ]
  },
  {
   "cell_type": "code",
   "execution_count": null,
   "metadata": {},
   "outputs": [],
   "source": [
    "## Guardar el modelo entrenado\n",
    "# joblib.dump(xgb_model, 'XGB_pl_04122023.joblib')"
   ]
  },
  {
   "cell_type": "code",
   "execution_count": null,
   "metadata": {},
   "outputs": [],
   "source": [
    "xgb_saved = joblib.load('XGB_pl_04122023.joblib')"
   ]
  },
  {
   "cell_type": "code",
   "execution_count": null,
   "metadata": {},
   "outputs": [],
   "source": [
    "xgb_saved = joblib.load('XGB_pl_04122023.joblib')\n",
    "ClfScores(xgb_saved,X_train, y_train,  X_val, y_val)"
   ]
  },
  {
   "cell_type": "code",
   "execution_count": null,
   "metadata": {},
   "outputs": [],
   "source": [
    "## Pasarle al modelo los datos de validación, es decir el Test.csv\n",
    "accuracy_score(y_test, xgb_saved.predict(X_test))"
   ]
  },
  {
   "cell_type": "code",
   "execution_count": null,
   "metadata": {},
   "outputs": [],
   "source": [
    "## StackingClassification\n",
    "estimators = [('RandomForest',clone(pl_dict.get('RandomForest')).set_params(**rf_gs.best_params_)),\n",
    "              ('KNeighbors',clone(pl_dict.get('KNeighborsClassifier')).set_params(**kn_gs.best_params_)),\n",
    "              ('XGBClf',clone(pl_dict.get('XGBClassifier')).set_params(**xgb_gs.best_params_))]\n",
    "\n",
    "from sklearn.ensemble import StackingClassifier, VotingClassifier\n",
    "\n",
    "stack_clf = StackingClassifier(estimators = estimators,\n",
    "                        final_estimator = LogisticRegression())\n",
    "\n",
    "stack_clf.fit(X_train, y_train)\n",
    "\n",
    "ClfScores(stack_clf,X_train, y_train, X_test, y_test)"
   ]
  },
  {
   "cell_type": "markdown",
   "metadata": {},
   "source": [
    "* Se crea un dataframe con los resultados de los 4 modelos entrenados y el desempeño en los conjuntos de entrenamiento, validación y prueba. Se escoge el modelo que mejor desempeño tenga en el conjunto de prueba."
   ]
  },
  {
   "cell_type": "code",
   "execution_count": null,
   "metadata": {},
   "outputs": [],
   "source": [
    "diccionario_resultados = {\n",
    "    'DummyClassifier':\n",
    "            {'train' : accuracy_score(y_train, dummy_clf.predict(X_train)),\n",
    "             'validation' : accuracy_score(y_val, dummy_clf.predict(X_val)), \n",
    "             'test' : accuracy_score(y_test, dummy_clf.predict(X_test)),},\n",
    "    'LogisticRegression':\n",
    "           {'train' : accuracy_score(y_train, lr_model.predict(X_train)),\n",
    "             'validation' : accuracy_score(y_val, lr_model.predict(X_val)), \n",
    "             'test' : accuracy_score(y_test, lr_model.predict(X_test)),},\n",
    "    'KNeighborsClassifier':\n",
    "           {'train' : accuracy_score(y_train, kn_model.predict(X_train)),\n",
    "             'validation' : accuracy_score(y_val, kn_model.predict(X_val)), \n",
    "             'test' : accuracy_score(y_test, kn_model.predict(X_test)),},\n",
    "    'NaiveBayes':\n",
    "           {'train' : accuracy_score(y_train, nb_model.predict(X_train)),\n",
    "             'validation' : accuracy_score(y_val, nb_model.predict(X_val)), \n",
    "             'test' : accuracy_score(y_test, nb_model.predict(X_test)),},\n",
    "    'XGBClassifier':\n",
    "            {'train' : accuracy_score(y_train, xgb_saved.predict(X_train)),\n",
    "             'validation' : accuracy_score(y_val, xgb_saved.predict(X_val)), \n",
    "             'test' : accuracy_score(y_test, xgb_saved.predict(X_test)),},\n",
    "}\n",
    "\n",
    "results_models = pd.DataFrame(diccionario_resultados)\n",
    "\n",
    "results_models.T.plot(kind = 'bar')\n",
    "plt.title('Desempeño de los modelos')\n",
    "plt.ylabel('Accuracy')\n",
    "plt.show()"
   ]
  },
  {
   "cell_type": "code",
   "execution_count": null,
   "metadata": {},
   "outputs": [],
   "source": [
    "ax = df_test.Segmentation.value_counts(normalize = True).sort_index().plot( kind = 'bar')\n",
    "ax.get_yaxis().set_visible(False)\n",
    "labels = (df_test.Segmentation.value_counts(normalize = True).sort_index()*100).round(1).astype('str') + '%' ## ETIQUETA DE LAS BARRAS QUE SE MUESTRE EN %\n",
    "ax.tick_params(axis = 'x', rotation = 0)  ## ROTAR LAS ETIQUETAS DEL EJE X\n",
    "for container in ax.containers:\n",
    "    ax.bar_label(container, labels = labels)\n",
    "plt.show()"
   ]
  },
  {
   "cell_type": "markdown",
   "metadata": {},
   "source": [
    "## Reducción dimensionalidad\n",
    "\n",
    "\n",
    "Considerando todas las variables, realizar un análisis de componentes principales (PCA), eligiendo el número de componentes necesarios para conservar al menos el 80% de la representación original."
   ]
  },
  {
   "cell_type": "code",
   "execution_count": null,
   "metadata": {},
   "outputs": [],
   "source": [
    "train_pca = train.copy()"
   ]
  },
  {
   "cell_type": "code",
   "execution_count": null,
   "metadata": {},
   "outputs": [],
   "source": [
    "## Se estandarizan las variables y se ajusta el PCA\n",
    "num_std = StandardScaler().fit_transform(train[num_idx])\n",
    "pca_num = PCA()\n",
    "pca_num.fit(num_std)\n",
    "\n",
    "plt.bar(range(len(np.cumsum(pca_num.explained_variance_ratio_))),np.cumsum(pca_num.explained_variance_ratio_))\n",
    "plt.title('Varianza explicada acumulada')\n",
    "plt.show()"
   ]
  },
  {
   "cell_type": "markdown",
   "metadata": {},
   "source": [
    "La proporción de la varianza explicada con 2 componentes (78.6%) es muy cercana al 80%, por lo que se utilizarán los 2 primeros componentes principales para seguir con el análisis."
   ]
  },
  {
   "cell_type": "code",
   "execution_count": null,
   "metadata": {},
   "outputs": [],
   "source": [
    "## Fragmento de código adaptado de: https://www.jcchouinard.com/python-pca-biplots-machine-learning/\n",
    "\n",
    "pca_features = pca_num.transform(train[num_idx])\n",
    " \n",
    "# Principal components correlation coefficients\n",
    "loadings = pca_num.components_\n",
    " \n",
    "# Number of features before PCA\n",
    "n_features = pca_num.n_features_in_\n",
    " \n",
    "# Feature names before PCA\n",
    "feature_names = num_idx\n",
    " \n",
    "# PC names\n",
    "pc_list = [f'PC{i}' for i in list(range(1, n_features + 1))]\n",
    " \n",
    "# Match PC names to loadings\n",
    "pc_loadings = dict(zip(pc_list, loadings))\n",
    " \n",
    "# Matrix of corr coefs between feature names and PCs\n",
    "loadings_df = pd.DataFrame.from_dict(pc_loadings)\n",
    "loadings_df['feature_names'] = feature_names\n",
    "loadings_df = loadings_df.set_index('feature_names')\n",
    "loadings_df"
   ]
  },
  {
   "cell_type": "markdown",
   "metadata": {},
   "source": [
    "**Interpretación de los 2 componentes principales:**\n",
    "\n",
    "* PC1 -> Este componente representa principalmente la edad (en el sentido negativo) y el tamaño de la familia (en el sentido positivo), y en menor magnitud la experiencia laboral (en sentido positivo).\n",
    "\n",
    "* PC2 -> Este componente representa en mayor medida la experiencia laboral (en el sentido positivo), seguido del tamaño de la familia (en el sentido negativo). Mientras que la edad tiene una baja contribución (en su sentido negativo) a este componente.\n",
    "\n",
    "* Interpretación gráfico biplot:\n",
    "De acuerdo con las contribuciones que tiene cada una de las variables a los componentes, es la edad la variable que mejor queda representada en el PC1, contrario a la experiencia laboral que contribuye de mayor manera al PC2 y en menor medida al PC1. Para la variable tamaño de la familia, el aporte es más equitativo (PC1 en sentido positivo, PC2 en sentido negativo).\n"
   ]
  },
  {
   "cell_type": "code",
   "execution_count": null,
   "metadata": {},
   "outputs": [],
   "source": [
    "xs = loadings[0]\n",
    "ys = loadings[1]\n",
    " \n",
    "# Create DataFrame from PCA\n",
    "pca_df = pd.DataFrame(\n",
    "    data=pca_features, \n",
    "    columns=['PC1', 'PC2','PC3'])\n",
    " \n",
    " \n",
    "# Scale PCS into a DataFrame\n",
    "pca_df_scaled = pca_df.copy()\n",
    " \n",
    "scaler_df = pca_df[['PC1', 'PC2','PC3']]\n",
    "scaler = 1 / (scaler_df.max() - scaler_df.min())\n",
    " \n",
    "for index in scaler.index:\n",
    "    pca_df_scaled[index] *= scaler[index]\n",
    " \n",
    "\n",
    "sns.lmplot(\n",
    "    x='PC1', \n",
    "    y='PC2', \n",
    "    data=pca_df_scaled, \n",
    "    fit_reg=False, \n",
    "    )\n",
    " \n",
    "for i, varnames in enumerate(feature_names):\n",
    "    plt.scatter(xs[i], ys[i], s=200)\n",
    "    plt.arrow(\n",
    "        0, 0, # coordinates of arrow base\n",
    "        xs[i], # length of the arrow along x\n",
    "        ys[i], # length of the arrow along y\n",
    "        color='green', \n",
    "        head_width=0.01\n",
    "        )\n",
    "    plt.text(xs[i], ys[i], varnames)\n",
    " \n",
    "xticks = np.linspace(-1, 1, num=5)\n",
    "yticks = np.linspace(-1,1, num=5)\n",
    "plt.xticks(xticks)\n",
    "plt.yticks(yticks)\n",
    "plt.xlabel('Principal Component 1')\n",
    "plt.ylabel('Principal Component 2')\n",
    " \n",
    "plt.title('2D PCA Biplot (Python)')\n",
    "plt.show()"
   ]
  },
  {
   "cell_type": "markdown",
   "metadata": {},
   "source": [
    "## Caracterización de los clientes por segmento"
   ]
  },
  {
   "cell_type": "code",
   "execution_count": null,
   "metadata": {},
   "outputs": [],
   "source": [
    "dataPCAKM = pca_df.iloc[:,:2].copy()"
   ]
  },
  {
   "cell_type": "code",
   "execution_count": null,
   "metadata": {},
   "outputs": [],
   "source": [
    "def encontrar_numero_clusters(X):\n",
    "    # Crea una lista vacía para almacenar la inercia\n",
    "    inertia = []\n",
    "\n",
    "    # Prueba diferentes números de clusters de 1 a N\n",
    "    for i in range(1, 6):\n",
    "        kmeans = KMeans(n_clusters=i, random_state=0)\n",
    "        kmeans.fit(X)\n",
    "        inertia.append(kmeans.inertia_)\n",
    "\n",
    "    # Calcula la inercia acumulada\n",
    "    inertia_cumulative = np.cumsum(inertia)\n",
    "\n",
    "    # Calcula el porcentaje de la inercia acumulada\n",
    "    total_inertia = inertia_cumulative[-1]\n",
    "    inertia_percentage = (inertia_cumulative / total_inertia) * 100\n",
    "\n",
    "    # Encuentra el número de clusters que recoja el 90% de la inercia\n",
    "    n_clusters_95_percent = np.argmax(inertia_percentage >= 95) + 1\n",
    "\n",
    "    # Visualiza la curva de la inercia acumulada\n",
    "    plt.figure(figsize=(8, 4))\n",
    "    plt.plot(range(1, 6), inertia_percentage, marker='o', linestyle='--')\n",
    "    plt.xlabel('Número de Clusters')\n",
    "    plt.ylabel('Inercia Acumulada (%)')\n",
    "    plt.title('Curva de Codo')\n",
    "    plt.grid(True)\n",
    "    plt.show()\n",
    "\n",
    "    print(f\"Número de clusters que recoja el 95% de la inercia: {n_clusters_95_percent}\")\n",
    "\n",
    "    return n_clusters_95_percent"
   ]
  },
  {
   "cell_type": "code",
   "execution_count": null,
   "metadata": {},
   "outputs": [],
   "source": [
    "encontrar_numero_clusters(dataPCAKM)"
   ]
  },
  {
   "cell_type": "code",
   "execution_count": null,
   "metadata": {},
   "outputs": [],
   "source": [
    "Kmeans_final = KMeans(n_clusters = 5)\n",
    "Kmeans_final.fit(dataPCAKM)\n",
    "clust_lab = Kmeans_final.labels_\n",
    "\n",
    "dataPCAKM['clust_labels'] = clust_lab"
   ]
  },
  {
   "cell_type": "code",
   "execution_count": null,
   "metadata": {},
   "outputs": [],
   "source": [
    "ax = sns.scatterplot(data = dataPCAKM, x = 'PC1', y = 'PC2', hue = 'clust_labels')\n",
    "ax.legend(title = 'Clústers')\n",
    "plt.show()"
   ]
  },
  {
   "cell_type": "markdown",
   "metadata": {},
   "source": [
    "* Le añadimos los clúster sugeridos por KMeans al dataset original"
   ]
  },
  {
   "cell_type": "code",
   "execution_count": null,
   "metadata": {},
   "outputs": [],
   "source": [
    "trainClust = train_pca.merge(dataPCAKM, left_index= True, right_index=True)"
   ]
  },
  {
   "cell_type": "code",
   "execution_count": null,
   "metadata": {},
   "outputs": [],
   "source": [
    "trainClust.clust_labels.value_counts().plot(kind = 'bar')\n",
    "plt.title('Observaciones por clúster')\n",
    "plt.show()"
   ]
  },
  {
   "cell_type": "markdown",
   "metadata": {},
   "source": [
    "* En la variable edad se observa que las etiquetas dadas por KMeans logran dividir de mejor manera a la población en comparación con la etiqueta inicial del dataset 'Segmentation', donde  3 de las 4 categorías tenían una edad promedio similar. Mientras que en los clústers de KMeans, todos los clústers tienen una edad promedio diferente"
   ]
  },
  {
   "cell_type": "code",
   "execution_count": null,
   "metadata": {},
   "outputs": [],
   "source": [
    "fig, ((ax1 ,ax2),\n",
    "      (ax3, ax4),\n",
    "      (ax5,ax6)) = plt.subplots(3,2, figsize = (14,16))\n",
    "sns.boxplot(data = trainClust, x = 'Segmentation', y = 'Age',order = trainClust.Segmentation.sort_values().unique(), ax = ax2, showmeans = True, palette = 'vlag')\n",
    "sns.boxplot(data = trainClust, x = 'clust_labels', y = 'Age',order = trainClust.clust_labels.sort_values().unique(),ax = ax1 ,showmeans = True, palette = 'vlag')\n",
    "sns.boxplot(data = trainClust, x = 'Segmentation', y = 'Work_Experience',order = trainClust.Segmentation.sort_values().unique(), ax = ax4, showmeans = True, palette = 'vlag')\n",
    "sns.boxplot(data = trainClust, x = 'clust_labels', y = 'Work_Experience',order = trainClust.clust_labels.sort_values().unique(),ax = ax3 ,showmeans = True, palette = 'vlag')\n",
    "sns.boxplot(data = trainClust, x = 'Segmentation', y = 'Family_Size',order = trainClust.Segmentation.sort_values().unique(), ax = ax6, showmeans = True, palette = 'vlag')\n",
    "sns.boxplot(data = trainClust, x = 'clust_labels', y = 'Family_Size',order = trainClust.clust_labels.sort_values().unique(),ax = ax5 ,showmeans = True, palette = 'vlag')\n",
    "fig.suptitle('Comparación categorías KMeans vs etiquetas originales')\n",
    "plt.tight_layout()\n",
    "plt.show()"
   ]
  }
 ],
 "metadata": {
  "kernelspec": {
   "display_name": "Python 3",
   "language": "python",
   "name": "python3"
  },
  "language_info": {
   "codemirror_mode": {
    "name": "ipython",
    "version": 3
   },
   "file_extension": ".py",
   "mimetype": "text/x-python",
   "name": "python",
   "nbconvert_exporter": "python",
   "pygments_lexer": "ipython3",
   "version": "3.11.5"
  }
 },
 "nbformat": 4,
 "nbformat_minor": 2
}
